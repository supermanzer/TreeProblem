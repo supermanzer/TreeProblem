{
 "cells": [
  {
   "cell_type": "markdown",
   "metadata": {},
   "source": [
    "# Tree Traversal Problem\n",
    "----\n",
    "## Problem Statement\n",
    "You have a tree. Rain is falling on the root node of this tree. Water starts trickling down from the root node in parallel to its children and then to the rest of the tree. Each edge in the tree takes a different amount of time for the water to travel. How long does it take for all leaves to get wet?\n",
    "\n",
    "## Approach\n",
    "We will build a tree using Python class(es) that allows us to compute the length of each path in the tree (as determined by node properties) and select either the minimum or maximum.\n",
    "\n",
    "## Additional Functionality\n",
    "While finding the maximum length path is the goal requested, I think it would be useful to return the nodes in that path.  Let's build this functionality such that we return the path which is either the minimum or maximum length path. "
   ]
  },
  {
   "cell_type": "code",
   "execution_count": null,
   "metadata": {},
   "outputs": [],
   "source": []
  }
 ],
 "metadata": {
  "kernelspec": {
   "display_name": "Python 3",
   "language": "python",
   "name": "python3"
  },
  "language_info": {
   "codemirror_mode": {
    "name": "ipython",
    "version": 3
   },
   "file_extension": ".py",
   "mimetype": "text/x-python",
   "name": "python",
   "nbconvert_exporter": "python",
   "pygments_lexer": "ipython3",
   "version": "3.7.2"
  }
 },
 "nbformat": 4,
 "nbformat_minor": 2
}
